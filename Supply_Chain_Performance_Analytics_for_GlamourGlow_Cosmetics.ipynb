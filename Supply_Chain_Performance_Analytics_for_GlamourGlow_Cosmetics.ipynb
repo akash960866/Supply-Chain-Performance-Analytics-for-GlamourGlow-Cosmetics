{
  "nbformat": 4,
  "nbformat_minor": 0,
  "metadata": {
    "colab": {
      "provenance": []
    },
    "kernelspec": {
      "name": "python3",
      "display_name": "Python 3"
    },
    "language_info": {
      "name": "python"
    }
  },
  "cells": [
    {
      "cell_type": "code",
      "execution_count": null,
      "metadata": {
        "id": "JOGOn0YNN206"
      },
      "outputs": [],
      "source": [
        "#Module 1: Inventory Status\n",
        "#1. Heatmap (Stock Levels across Products/SKUs)\n",
        "#Insights (choose any as per your chart):\n",
        "#* “The heatmap shows that several SKUs, especially in the skincare and lipstick categories, consistently fall below healthy stock levels.”\n",
        "#* “Perfume and haircare products display significantly higher stock levels, indicating overstocking and capital being tied up.”\n",
        "\n",
        "#2. Bullet Chart (Stock vs Safety Stock)\n",
        "#Insights (choose any as per your chart):\n",
        "#* “Multiple SKUs have stock levels below the safety stock threshold, highlighting a risk of stockouts.”\n",
        "#* “Some SKUs have stock levels far above the safety stock, leading to overstocking and inefficient inventory allocation.”\n",
        "\n",
        "\n",
        "#Module 2 Insights (Based on your KPIs)\n",
        "#1. Regional Comparison\n",
        "#* “West region shows the highest delay percentage, while East maintains the best on-time delivery performance.”\n",
        "#1. On-time vs Delayed\n",
        "#* “Although the overall on-time delivery rate is strong, delayed shipments remain concentrated in specific regions.”\n",
        "#1. Shipping Time Trend\n",
        "#* “Average shipping time is longer in the West compared to other regions, indicating a bottleneck in logistics.”\n",
        "#1. Order Volume Impact\n",
        "#* “Regions with higher order volumes also face higher delays, suggesting capacity constraints during peak demand.”\n",
        "#1. Business Implication\n",
        "#* “Reducing shipping delays in high-volume regions could significantly improve customer satisfaction and service levels.”\n",
        "\n",
        "\n",
        "\n",
        "\n",
        "\n",
        "\n",
        "\n",
        "\n",
        "#Module 3 Insights (Supplier Performance)\n",
        "#1. Cost vs Quality Trade-off\n",
        "#* “Some suppliers offer low manufacturing costs but record higher defect rates, increasing the risk of quality issues.”\n",
        "#1. Lead Time Variability\n",
        "#* “Suppliers show significant variation in lead times; a few consistently take longer, creating fulfillment bottlenecks.”\n",
        "#1. Best Performing Supplier\n",
        "#* “Suppliers with both lower defect rates and competitive costs emerge as the most reliable partners for long-term sourcing.”\n",
        "#1. High-Risk Supplier\n",
        "#* “One supplier combines the lowest cost with the highest defect rate, which could damage customer satisfaction despite initial savings.”\n",
        "#1. Balanced Suppliers\n",
        "#* “Mid-cost suppliers with moderate lead times and lower defect percentages strike the best balance between efficiency and quality.”\n",
        "\n",
        "\n",
        "\n",
        "\n",
        "\n",
        "#Module 4: Shipping Efficiency by Carrier & Route\n",
        "#Bar Chart Insights (Carrier & Route Performance)\n",
        "#1. Carrier Comparison\n",
        "#* “Carrier B consistently shows lower average shipping times compared to Carrier A across most routes.”\n",
        "#1. Cost Efficiency\n",
        "#* “Carrier A incurs significantly higher shipping costs, especially on northern routes, reducing cost-effectiveness.”\n",
        "#1. Volume vs Efficiency\n",
        "#* “Routes with higher shipment volumes also show increased delays, indicating possible capacity bottlenecks.”\n",
        "\n",
        " #Map Visualization Insights (City/Route Level)\n",
        "#1. Regional Performance\n",
        "#* “Southern hubs (Chennai, Bengaluru) demonstrate faster and more cost-efficient deliveries compared to northern hubs like Delhi.”\n",
        "#1. Route Specific\n",
        "#* “Carrier B achieves the best balance of speed and cost on the Mumbai–Chennai and Bengaluru–Kolkata routes.”\n",
        "#1. Risk Areas\n",
        "#* “Carrier A faces repeated cost surcharges and slower delivery speeds on Delhi routes, highlighting inefficiencies in northern logistics.”\n",
        "\n",
        "\n",
        "\n"
      ]
    }
  ]
}